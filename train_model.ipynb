{
 "cells": [
  {
   "cell_type": "markdown",
   "source": [
    "### Загрузим все необходимые модули и библиотеки\n"
   ],
   "metadata": {
    "id": "HgaN64vAFvr_",
    "pycharm": {
     "name": "#%% md\n"
    }
   }
  },
  {
   "cell_type": "code",
   "execution_count": 3,
   "metadata": {
    "collapsed": true,
    "pycharm": {
     "name": "#%%\n"
    },
    "id": "fqNfLolpTmnm",
    "executionInfo": {
     "status": "ok",
     "timestamp": 1650832913990,
     "user_tz": -300,
     "elapsed": 9730,
     "user": {
      "displayName": "Владислав Кириенко",
      "userId": "03476865793099157061"
     }
    }
   },
   "outputs": [],
   "source": [
    "from torch.optim import AdamW\n",
    "from tqdm import tqdm\n",
    "import torch\n",
    "from torch import nn\n",
    "import data_transformer\n",
    "import constants\n",
    "from model import SentenceClassifier\n",
    "from sklearn.metrics import f1_score\n",
    "from sklearn.model_selection import train_test_split\n",
    "import pandas as pd\n",
    "from transformers import get_scheduler"
   ]
  },
  {
   "cell_type": "markdown",
   "source": [
    "### Выберем устройство, определим модель, установим некоторые параметры обучения,определим оптимизатор и лосс"
   ],
   "metadata": {
    "id": "RJFH-qT6F4xw",
    "pycharm": {
     "name": "#%% md\n"
    }
   }
  },
  {
   "cell_type": "code",
   "execution_count": 4,
   "outputs": [
    {
     "output_type": "stream",
     "name": "stderr",
     "text": [
      "Some weights of the model checkpoint at cointegrated/rubert-tiny were not used when initializing BertModel: ['cls.predictions.decoder.weight', 'cls.predictions.decoder.bias', 'cls.predictions.transform.LayerNorm.weight', 'cls.predictions.transform.dense.weight', 'cls.seq_relationship.weight', 'cls.predictions.transform.dense.bias', 'cls.seq_relationship.bias', 'cls.predictions.transform.LayerNorm.bias', 'cls.predictions.bias']\n",
      "- This IS expected if you are initializing BertModel from the checkpoint of a model trained on another task or with another architecture (e.g. initializing a BertForSequenceClassification model from a BertForPreTraining model).\n",
      "- This IS NOT expected if you are initializing BertModel from the checkpoint of a model that you expect to be exactly identical (initializing a BertForSequenceClassification model from a BertForSequenceClassification model).\n"
     ]
    }
   ],
   "source": [
    "# Выберем устройство, определим модель, установим некоторые параметры обучения,\n",
    "# определим оптимизатор и лосс\n",
    "device = device = torch.device('cuda' if torch.cuda.is_available() else 'cpu')\n",
    "model = SentenceClassifier().to(device=device)\n",
    "learning_rate = 5e-5\n",
    "epochs = constants.EPOCHS_COUNT\n",
    "optimizer = AdamW(model.parameters(), lr=learning_rate)\n",
    "criterion = nn.BCELoss()"
   ],
   "metadata": {
    "pycharm": {
     "name": "#%%\n"
    },
    "colab": {
     "base_uri": "https://localhost:8080/"
    },
    "id": "fIYOV6ZYTmnr",
    "executionInfo": {
     "status": "ok",
     "timestamp": 1650832918500,
     "user_tz": -300,
     "elapsed": 4518,
     "user": {
      "displayName": "Владислав Кириенко",
      "userId": "03476865793099157061"
     }
    },
    "outputId": "7c78e4d0-804f-46e4-af6d-d7b38f3742b4"
   }
  },
  {
   "cell_type": "markdown",
   "source": [
    "### Загрузим данные, разобъем их на тренировочную, тестовую и валидационную части"
   ],
   "metadata": {
    "id": "rgK7VsdaGHaX",
    "pycharm": {
     "name": "#%% md\n"
    }
   }
  },
  {
   "cell_type": "code",
   "execution_count": 5,
   "outputs": [],
   "source": [
    "# Определяем размеры каждой из частей\n",
    "train_size = constants.TRAIN_SIZE\n",
    "test_size = constants.TEST_SIZE\n",
    "valid_size = constants.VALID_SIZE\n",
    "\n",
    "# Загружаем данные, извлекаем заголовки новостей и их метки\n",
    "train_data = pd.read_table('dataset/train.tsv')\n",
    "X = train_data['title']\n",
    "y = train_data['is_fake']\n",
    "\n",
    "\n",
    "# Разбиваем данные на train, test и validation выборки\n",
    "X_train, X_test, y_train, y_test = train_test_split(X, y, train_size=train_size)\n",
    "X_valid, X_test, y_valid, y_test = train_test_split(X_test, y_test, train_size=valid_size/(1-train_size))\n",
    "\n",
    "\n",
    "# Оборачиваем данные в DataLoader для удобной и простой подачи данных в сеть\n",
    "train_loader = data_transformer.get_loader(X_train.values, y_train.values)\n",
    "test_loader = data_transformer.get_loader(X_test.values, y_test.values)\n",
    "valid_loader = data_transformer.get_loader(X_valid.values, y_valid.values)"
   ],
   "metadata": {
    "pycharm": {
     "name": "#%%\n"
    },
    "id": "kzdOKVL9Tmnt",
    "executionInfo": {
     "status": "ok",
     "timestamp": 1650832924676,
     "user_tz": -300,
     "elapsed": 6183,
     "user": {
      "displayName": "Владислав Кириенко",
      "userId": "03476865793099157061"
     }
    }
   }
  },
  {
   "cell_type": "markdown",
   "source": [
    "### Проверим, что мы правильно разбили исходные данные на части\n",
    "**Замечание. В файлике с константами указаны размеры для test, train и val (0.75, 0.10 и 0.15 соответственно)**"
   ],
   "metadata": {
    "id": "gwEpfLlpGxBF",
    "pycharm": {
     "name": "#%% md\n"
    }
   }
  },
  {
   "cell_type": "code",
   "execution_count": 6,
   "outputs": [
    {
     "output_type": "stream",
     "name": "stdout",
     "text": [
      "доля train:  0.7499131642931574\n",
      "доля test:  0.10003473428273706\n",
      "доля valid:  0.1500521014241056\n"
     ]
    }
   ],
   "source": [
    "print('доля train: ', X_train.shape[0] / train_data.shape[0])\n",
    "print('доля test: ',X_test.shape[0] / train_data.shape[0])\n",
    "print('доля valid: ',X_valid.shape[0] / train_data.shape[0])"
   ],
   "metadata": {
    "pycharm": {
     "name": "#%%\n"
    },
    "colab": {
     "base_uri": "https://localhost:8080/"
    },
    "id": "6vXFrNSXTmnu",
    "executionInfo": {
     "status": "ok",
     "timestamp": 1650832924677,
     "user_tz": -300,
     "elapsed": 25,
     "user": {
      "displayName": "Владислав Кириенко",
      "userId": "03476865793099157061"
     }
    },
    "outputId": "dc6edac3-f5aa-40ec-c5d5-62fa21b7a17a"
   }
  },
  {
   "cell_type": "markdown",
   "source": [
    "### Создадим функцию для подсчета нашей метрики (f1_score)"
   ],
   "metadata": {
    "id": "a5AwPldPHoQf",
    "pycharm": {
     "name": "#%% md\n"
    }
   }
  },
  {
   "cell_type": "code",
   "execution_count": 7,
   "outputs": [],
   "source": [
    "def calculate_metric(predictions, true_labels):\n",
    "    # Преобразуем тензоры в numpy-массивы\n",
    "    predictions = predictions.cpu().detach().numpy()\n",
    "    true_labels = true_labels.cpu().detach().numpy()\n",
    "    \n",
    "    return f1_score(predictions, true_labels)"
   ],
   "metadata": {
    "pycharm": {
     "name": "#%%\n"
    },
    "id": "5d1W_72CTmnw",
    "executionInfo": {
     "status": "ok",
     "timestamp": 1650832924678,
     "user_tz": -300,
     "elapsed": 19,
     "user": {
      "displayName": "Владислав Кириенко",
      "userId": "03476865793099157061"
     }
    }
   }
  },
  {
   "cell_type": "markdown",
   "source": [
    "### Обучим нашу модель. Также после каждой эпохи будем проверять loss и метрику на test-выборке"
   ],
   "metadata": {
    "id": "vxot0prpH8pJ",
    "pycharm": {
     "name": "#%% md\n"
    }
   }
  },
  {
   "cell_type": "code",
   "execution_count": 8,
   "outputs": [
    {
     "output_type": "stream",
     "name": "stderr",
     "text": [
      "100%|██████████| 135/135 [01:03<00:00,  2.11it/s]\n"
     ]
    },
    {
     "output_type": "stream",
     "name": "stdout",
     "text": [
      "Эпоха: 1 | Лосс на train:  0.485         | f1_score на train:  0.783         | Лосс на test:  0.358         | f1_score на test:  0.850\n"
     ]
    },
    {
     "output_type": "stream",
     "name": "stderr",
     "text": [
      "100%|██████████| 135/135 [01:02<00:00,  2.17it/s]\n"
     ]
    },
    {
     "output_type": "stream",
     "name": "stdout",
     "text": [
      "Эпоха: 2 | Лосс на train:  0.284         | f1_score на train:  0.883         | Лосс на test:  0.327         | f1_score на test:  0.864\n"
     ]
    },
    {
     "output_type": "stream",
     "name": "stderr",
     "text": [
      "100%|██████████| 135/135 [01:02<00:00,  2.17it/s]\n"
     ]
    },
    {
     "output_type": "stream",
     "name": "stdout",
     "text": [
      "Эпоха: 3 | Лосс на train:  0.186         | f1_score на train:  0.931         | Лосс на test:  0.386         | f1_score на test:  0.849\n"
     ]
    },
    {
     "output_type": "stream",
     "name": "stderr",
     "text": [
      "100%|██████████| 135/135 [01:01<00:00,  2.18it/s]\n"
     ]
    },
    {
     "output_type": "stream",
     "name": "stdout",
     "text": [
      "Эпоха: 4 | Лосс на train:  0.115         | f1_score на train:  0.962         | Лосс на test:  0.378         | f1_score на test:  0.862\n"
     ]
    },
    {
     "output_type": "stream",
     "name": "stderr",
     "text": [
      "100%|██████████| 135/135 [01:01<00:00,  2.18it/s]\n"
     ]
    },
    {
     "output_type": "stream",
     "name": "stdout",
     "text": [
      "Эпоха: 5 | Лосс на train:  0.062         | f1_score на train:  0.984         | Лосс на test:  0.391         | f1_score на test:  0.881\n"
     ]
    },
    {
     "output_type": "stream",
     "name": "stderr",
     "text": [
      "100%|██████████| 135/135 [01:01<00:00,  2.18it/s]\n"
     ]
    },
    {
     "output_type": "stream",
     "name": "stdout",
     "text": [
      "Эпоха: 6 | Лосс на train:  0.037         | f1_score на train:  0.994         | Лосс на test:  0.418         | f1_score на test:  0.874\n"
     ]
    },
    {
     "output_type": "stream",
     "name": "stderr",
     "text": [
      "100%|██████████| 135/135 [01:01<00:00,  2.18it/s]\n"
     ]
    },
    {
     "output_type": "stream",
     "name": "stdout",
     "text": [
      "Эпоха: 7 | Лосс на train:  0.027         | f1_score на train:  0.995         | Лосс на test:  0.459         | f1_score на test:  0.876\n"
     ]
    },
    {
     "output_type": "stream",
     "name": "stderr",
     "text": [
      "100%|██████████| 135/135 [01:01<00:00,  2.18it/s]\n"
     ]
    },
    {
     "output_type": "stream",
     "name": "stdout",
     "text": [
      "Эпоха: 8 | Лосс на train:  0.020         | f1_score на train:  0.997         | Лосс на test:  0.461         | f1_score на test:  0.877\n"
     ]
    },
    {
     "output_type": "stream",
     "name": "stderr",
     "text": [
      "100%|██████████| 135/135 [01:01<00:00,  2.18it/s]\n"
     ]
    },
    {
     "output_type": "stream",
     "name": "stdout",
     "text": [
      "Эпоха: 9 | Лосс на train:  0.017         | f1_score на train:  0.998         | Лосс на test:  0.462         | f1_score на test:  0.870\n"
     ]
    },
    {
     "output_type": "stream",
     "name": "stderr",
     "text": [
      "100%|██████████| 135/135 [01:01<00:00,  2.18it/s]\n"
     ]
    },
    {
     "output_type": "stream",
     "name": "stdout",
     "text": [
      "Эпоха: 10 | Лосс на train:  0.014         | f1_score на train:  0.998         | Лосс на test:  0.466         | f1_score на test:  0.882\n"
     ]
    }
   ],
   "source": [
    "num_training_steps = epochs * len(train_loader)\n",
    "lr_scheduler = get_scheduler(\n",
    "    name=\"linear\", \n",
    "    optimizer=optimizer, \n",
    "    num_warmup_steps=0, \n",
    "    num_training_steps=num_training_steps\n",
    ")\n",
    "\n",
    "for epoch in range(epochs):\n",
    "    total_train_loss = 0\n",
    "    total_train_f1_score = 0\n",
    "    train_loss_history = []\n",
    "    for train_features, train_labels in tqdm(train_loader):\n",
    "        optimizer.zero_grad()\n",
    "\n",
    "        current_batch_size = len(train_labels)\n",
    "        train_labels = train_labels.to(device=device).view(current_batch_size, 1)\n",
    "        attention_mask = train_features['attention_mask'].to(device)\n",
    "        input_ids = train_features['input_ids'].squeeze(1).to(device=device)\n",
    "\n",
    "        output = model(input_ids, attention_mask)\n",
    "\n",
    "\n",
    "        loss = criterion(output, train_labels.float())\n",
    "        total_train_loss += loss.item()\n",
    "        train_loss_history.append(loss.item())\n",
    "        loss.backward()\n",
    "\n",
    "        total_train_f1_score += calculate_metric(output.round().int(), train_labels)\n",
    "\n",
    "        optimizer.step()\n",
    "        lr_scheduler.step()\n",
    "\n",
    "    total_test_loss = 0\n",
    "    total_test_f1_score = 0\n",
    "    test_loss_history = []\n",
    "\n",
    "    with torch.no_grad():\n",
    "        for test_features, test_labels in test_loader:\n",
    "            current_batch_size = len(test_labels)\n",
    "            test_labels = test_labels.to(device=device).view(current_batch_size, 1)\n",
    "            attention_mask = test_features['attention_mask'].to(device)\n",
    "            input_ids = test_features['input_ids'].squeeze(1).to(device=device)\n",
    "\n",
    "            output = model(input_ids, attention_mask)\n",
    "\n",
    "            loss = criterion(output, test_labels.float())\n",
    "            total_test_loss += loss.item()\n",
    "            test_loss_history.append(loss.item())\n",
    "\n",
    "            total_test_f1_score += calculate_metric(output.round().int(), test_labels)\n",
    "\n",
    "    print(\n",
    "        f'Эпоха: {epoch + 1} | Лосс на train: {total_train_loss / len(train_loader): .3f} \\\n",
    "        | f1_score на train: {total_train_f1_score / len(train_loader): .3f} \\\n",
    "        | Лосс на test: {total_test_loss / len(test_loader): .3f} \\\n",
    "        | f1_score на test: {total_test_f1_score / len(test_loader): .3f}')"
   ],
   "metadata": {
    "pycharm": {
     "name": "#%%\n"
    },
    "colab": {
     "base_uri": "https://localhost:8080/"
    },
    "id": "eiBiDkVvTmnx",
    "executionInfo": {
     "status": "ok",
     "timestamp": 1650833579573,
     "user_tz": -300,
     "elapsed": 654914,
     "user": {
      "displayName": "Владислав Кириенко",
      "userId": "03476865793099157061"
     }
    },
    "outputId": "074003d8-198d-4e05-b211-f9f39fec100e"
   }
  },
  {
   "cell_type": "code",
   "source": [
    "import matplotlib.pyplot as plt"
   ],
   "metadata": {
    "id": "RnZ9zQ72RZtc",
    "executionInfo": {
     "status": "ok",
     "timestamp": 1650833594125,
     "user_tz": -300,
     "elapsed": 654,
     "user": {
      "displayName": "Владислав Кириенко",
      "userId": "03476865793099157061"
     }
    },
    "pycharm": {
     "name": "#%%\n"
    }
   },
   "execution_count": 10,
   "outputs": []
  },
  {
   "cell_type": "code",
   "source": [
    "plt.plot(train_loss_history)\n",
    "plt.title('train loss')\n",
    "plt.show()"
   ],
   "metadata": {
    "colab": {
     "base_uri": "https://localhost:8080/",
     "height": 281
    },
    "id": "yZifbRAYUbIB",
    "executionInfo": {
     "status": "ok",
     "timestamp": 1650833598400,
     "user_tz": -300,
     "elapsed": 1602,
     "user": {
      "displayName": "Владислав Кириенко",
      "userId": "03476865793099157061"
     }
    },
    "outputId": "3c77c2cc-5faa-49fb-c0d4-2138d2c7e3d6",
    "pycharm": {
     "name": "#%%\n"
    }
   },
   "execution_count": 11,
   "outputs": [
    {
     "output_type": "display_data",
     "data": {
      "text/plain": [
       "<Figure size 432x288 with 1 Axes>"
      ],
      "image/png": "[encoded data removed]"
     },
     "metadata": {
      "needs_background": "light"
     }
    }
   ]
  },
  {
   "cell_type": "code",
   "source": [
    "plt.plot(test_loss_history)\n",
    "plt.title('test loss')\n",
    "plt.show()"
   ],
   "metadata": {
    "colab": {
     "base_uri": "https://localhost:8080/",
     "height": 281
    },
    "id": "MT2eKPuuRpJM",
    "executionInfo": {
     "status": "ok",
     "timestamp": 1650833598401,
     "user_tz": -300,
     "elapsed": 11,
     "user": {
      "displayName": "Владислав Кириенко",
      "userId": "03476865793099157061"
     }
    },
    "outputId": "b18dd232-6f67-48f3-c179-28d9cecdbff7",
    "pycharm": {
     "name": "#%%\n"
    }
   },
   "execution_count": 12,
   "outputs": [
    {
     "output_type": "display_data",
     "data": {
      "text/plain": [
       "<Figure size 432x288 with 1 Axes>"
      ],
      "image/png": "[encoded data removed]"
     },
     "metadata": {
      "needs_background": "light"
     }
    }
   ]
  },
  {
   "cell_type": "markdown",
   "source": [
    "### Валидация модели"
   ],
   "metadata": {
    "id": "7GksmtmpSF-C",
    "pycharm": {
     "name": "#%% md\n"
    }
   }
  },
  {
   "cell_type": "code",
   "source": [
    "total_valid_f1_score = 0\n",
    "with torch.no_grad():\n",
    "  for valid_features, valid_labels in valid_loader:\n",
    "      current_batch_size = len(valid_labels)\n",
    "      valid_labels = valid_labels.to(device=device).view(current_batch_size, 1)\n",
    "      attention_mask = valid_features['attention_mask'].to(device)\n",
    "      input_ids = valid_features['input_ids'].squeeze(1).to(device=device)\n",
    "\n",
    "      output = model(input_ids, attention_mask)\n",
    "\n",
    "      total_valid_f1_score += calculate_metric(output.round().int(), valid_labels)\n",
    "print(f'f1_score на валидации: {total_valid_f1_score / len(valid_loader)}')"
   ],
   "metadata": {
    "colab": {
     "base_uri": "https://localhost:8080/"
    },
    "id": "U-AblKlqRsjn",
    "executionInfo": {
     "status": "ok",
     "timestamp": 1650833608964,
     "user_tz": -300,
     "elapsed": 5415,
     "user": {
      "displayName": "Владислав Кириенко",
      "userId": "03476865793099157061"
     }
    },
    "outputId": "a5d5e9e5-74e0-4a34-f96f-63e1cde3b9fe",
    "pycharm": {
     "name": "#%%\n"
    }
   },
   "execution_count": 13,
   "outputs": [
    {
     "output_type": "stream",
     "name": "stdout",
     "text": [
      "f1_score на валидации: 0.8866432706087046\n"
     ]
    }
   ]
  },
  {
   "cell_type": "markdown",
   "source": [
    "### Сохраним модель"
   ],
   "metadata": {
    "id": "9DI68sLhS91h",
    "pycharm": {
     "name": "#%% md\n"
    }
   }
  },
  {
   "cell_type": "code",
   "source": [
    "torch.save(model.state_dict(), 'model.pth')"
   ],
   "metadata": {
    "id": "ppmnq3_yTAjZ",
    "executionInfo": {
     "status": "ok",
     "timestamp": 1650833683594,
     "user_tz": -300,
     "elapsed": 478,
     "user": {
      "displayName": "Владислав Кириенко",
      "userId": "03476865793099157061"
     }
    },
    "pycharm": {
     "name": "#%%\n"
    }
   },
   "execution_count": 15,
   "outputs": []
  }
 ],
 "metadata": {
  "kernelspec": {
   "display_name": "Python 3",
   "language": "python",
   "name": "python3"
  },
  "language_info": {
   "codemirror_mode": {
    "name": "ipython",
    "version": 2
   },
   "file_extension": ".py",
   "mimetype": "text/x-python",
   "name": "python",
   "nbconvert_exporter": "python",
   "pygments_lexer": "ipython2",
   "version": "2.7.6"
  },
  "colab": {
   "name": "train_model.ipynb",
   "provenance": [],
   "collapsed_sections": []
  },
  "accelerator": "GPU"
 },
 "nbformat": 4,
 "nbformat_minor": 0
}